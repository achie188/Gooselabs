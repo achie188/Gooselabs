{
 "cells": [
  {
   "cell_type": "code",
   "execution_count": 2,
   "metadata": {},
   "outputs": [
    {
     "name": "stdout",
     "output_type": "stream",
     "text": [
      "Importing Data...\n"
     ]
    }
   ],
   "source": [
    "import pandas as pd\n",
    "import datetime as dt\n",
    "from datetime import timedelta, datetime\n",
    "\n",
    "dateparse = lambda x: dt.datetime.strptime(x, '%Y-%m-%d')\n",
    "\n",
    "#get control sheet\n",
    "url = r'C:\\Users\\achie\\Github\\Gooselabs\\Control.xlsx'\n",
    "Control = pd.read_excel(url, sheet_name = 0, header=0, index_col=0, engine='openpyxl')\n",
    "Venue_Summary = pd.read_excel(url, sheet_name = 1, header=0, index_col=0, engine='openpyxl')\n",
    "Round_Summary = pd.read_excel(url, sheet_name = 2, header=0, index_col=0, engine='openpyxl')\n",
    "Quiz_Difficulty = pd.read_excel(url, sheet_name = 3, header=0, index_col=0, engine='openpyxl')\n",
    "Round_Difficulty = pd.read_excel(url, sheet_name = 4, header=0, index_col=0, engine='openpyxl')\n",
    "\n",
    "Q_Dates = Control.loc['Easy', 'Recent date range']\n",
    "Q_Count = Control.loc['Easy', 'Recent count range'] - 1\n",
    "\n",
    "print(\"Importing Data...\")\n",
    "#get data\n",
    "location = r'C:\\Users\\achie\\Github\\Gooselabs\\2.Databases\\All_Data.csv'\n",
    "\n",
    "A_Db = pd.read_csv(location, parse_dates=['Date'], date_parser=dateparse)"
   ]
  },
  {
   "cell_type": "code",
   "execution_count": 3,
   "metadata": {},
   "outputs": [
    {
     "name": "stdout",
     "output_type": "stream",
     "text": [
      "Analysing questions...\n"
     ]
    }
   ],
   "source": [
    "print(\"Analysing questions...\")\n",
    "#get all time question average\n",
    "All_time_avg = A_Db.groupby(['QRef'], as_index=False).agg({'Correct': ['mean', 'min', 'max', 'count']})\n",
    "All_time_avg.columns = ['QRef', 'Mean', 'Min', 'Max', 'Count']\n",
    "\n",
    "All_time_avg['Avg'] = All_time_avg['Mean'] / All_time_avg['Max']\n",
    "\n",
    "All_time_avg.to_csv(r'C:\\Users\\achie\\Github\\Gooselabs\\2.Databases\\Q_all_time_average.csv')"
   ]
  },
  {
   "cell_type": "code",
   "execution_count": 4,
   "metadata": {},
   "outputs": [],
   "source": [
    "#question difficulty analysis\n",
    "All_time_avg = All_time_avg.sort_values(by=['Avg'], ascending=False) \n",
    "All_time_avg = All_time_avg.reset_index()\n",
    "All_time_avg['Index'] = All_time_avg.index\n",
    "\n",
    "NQs = len(All_time_avg)\n",
    "E_Threshold = Control.loc['Easy', 'Threshold']\n",
    "M_Threshold = Control.loc['Medium', 'Threshold']\n",
    "H_Threshold = Control.loc['Hard', 'Threshold']\n",
    "\n",
    "MediumQs = round(NQs * M_Threshold)\n",
    "HardQs = round(NQs * H_Threshold)\n",
    "EasyQs = NQs - MediumQs - HardQs\n",
    "\n",
    "E_Per_Threshold = All_time_avg.loc[NQs - EasyQs, 'Avg']\n",
    "M_Per_Threshold = All_time_avg.loc[NQs - MediumQs, 'Avg']\n",
    "H_Per_Threshold = All_time_avg.loc[NQs - HardQs, 'Avg']\n",
    "\n",
    "Round_Difficulty.loc['Easy', 'Overall'] = E_Per_Threshold\n",
    "Round_Difficulty.loc['Medium', 'Overall'] = M_Per_Threshold\n",
    "Round_Difficulty.loc['Hard', 'Overall'] = H_Per_Threshold"
   ]
  },
  {
   "cell_type": "code",
   "execution_count": 5,
   "metadata": {},
   "outputs": [],
   "source": [
    "#get recent question average - last X days\n",
    "Date_threshold = datetime.now().replace(microsecond=0).isoformat(' ')\n",
    "Date_threshold = datetime.strptime(Date_threshold, '%Y-%m-%d %H:%M:%S')\n",
    "Date_threshold = Date_threshold - timedelta(Q_Dates)\n",
    "\n",
    "#A_Db['Date'] = pd.to_datetime(A_Db['Date'])\n",
    "Recent_Db = A_Db[(A_Db['Date'] > Date_threshold)]\n",
    "Recent_date_avg = Recent_Db.groupby(['QRef'], as_index=False).agg({'Correct': ['mean', 'min', 'max', 'count']})\n",
    "Recent_date_avg.columns = ['QRef', 'Mean', 'Min', 'Max', 'Count']"
   ]
  },
  {
   "cell_type": "code",
   "execution_count": 6,
   "metadata": {},
   "outputs": [],
   "source": [
    "#get last X - average\n",
    "A_Db = A_Db.sort_values(by=['Date'], ascending=False) \n",
    "A_Db['xAsked'] = A_Db.groupby('QRef').cumcount()\n",
    "\n",
    "Recent_count_Db = A_Db[(A_Db['xAsked'] < Q_Count)]\n",
    "Recent_count_avg = Recent_count_Db.groupby(['QRef'], as_index=False).agg({'Correct': ['mean', 'min', 'max', 'count']})\n",
    "Recent_count_avg.columns = ['QRef', 'Mean', 'Min', 'Max', 'Count']\n",
    "\n",
    "Recent_date_avg.to_csv(r'C:\\Users\\achie\\Github\\Gooselabs\\2.Databases\\Q_Recent_date_avg.csv')\n",
    "Recent_count_avg.to_csv(r'C:\\Users\\achie\\Github\\Gooselabs\\2.Databases\\Q_Recent_count_avg.csv')"
   ]
  },
  {
   "cell_type": "code",
   "execution_count": 7,
   "metadata": {},
   "outputs": [],
   "source": [
    "url = r'C:\\Users\\achie\\Github\\Gooselabs\\Control.xlsx'\n",
    "writer = pd.ExcelWriter(url , engine='xlsxwriter')\n",
    "Control.to_excel(writer, sheet_name='Parameters')\n",
    "Venue_Summary.to_excel(writer, sheet_name='Venues')\n",
    "Round_Summary.to_excel(writer, sheet_name='Rounds')\n",
    "Quiz_Difficulty.to_excel(writer, sheet_name='Quiz_Diff_Structure')\n",
    "Round_Difficulty.to_excel(writer, sheet_name='Round_Diff')\n",
    "writer.save()"
   ]
  }
 ],
 "metadata": {
  "kernelspec": {
   "display_name": "Python 3",
   "language": "python",
   "name": "python3"
  },
  "language_info": {
   "codemirror_mode": {
    "name": "ipython",
    "version": 3
   },
   "file_extension": ".py",
   "mimetype": "text/x-python",
   "name": "python",
   "nbconvert_exporter": "python",
   "pygments_lexer": "ipython3",
   "version": "3.8.5"
  }
 },
 "nbformat": 4,
 "nbformat_minor": 4
}
