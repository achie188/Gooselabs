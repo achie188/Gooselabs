{
 "cells": [
  {
   "cell_type": "code",
   "execution_count": 1,
   "metadata": {},
   "outputs": [],
   "source": [
    "import importlib.util\n",
    "import pandas as pd\n",
    "\n",
    "pd.set_option('mode.chained_assignment', None)\n",
    "\n",
    "location2 = r'C:\\Users\\achie\\Github\\Gooselabs\\_Scripts'\n",
    "\n",
    "Importer = location2 +r'\\Initial_import&cleanse.py'\n",
    "Q_Analysis = location2 +r'\\Questions_analysis.py'\n",
    "V_Analysis = location2 +r'\\Venue_analysis.py'\n",
    "\n",
    "Quiz_Builder = location2 +r'\\Quiz_builder.py'\n",
    "\n",
    "MatchQs = location2 +r'\\Match_Qs.py'"
   ]
  },
  {
   "cell_type": "code",
   "execution_count": 2,
   "metadata": {},
   "outputs": [],
   "source": [
    "Import = 0\n",
    "Questions_Analysis = 1\n",
    "Venue_Analysis = 1\n",
    "\n",
    "Build_Quiz = 1\n",
    "\n",
    "Match_Questions = 0"
   ]
  },
  {
   "cell_type": "code",
   "execution_count": 5,
   "metadata": {},
   "outputs": [
    {
     "name": "stdout",
     "output_type": "stream",
     "text": [
      "QUESTIONS ANALYSER\n",
      "Importing Data...\n",
      "Analysing questions...\n",
      "Done\n",
      "-------------------------------------------------------------------------\n",
      " \n",
      "VENUE ANALYSER\n",
      "Importing Data...\n",
      "Analysing venues...\n",
      "Done\n",
      "-------------------------------------------------------------------------\n",
      " \n",
      "QUIZ BUILDER\n",
      "Importing Data...\n",
      "Building Quizzes: 100.0% \n",
      "Done\n",
      "-------------------------------------------------------------------------\n",
      " \n"
     ]
    }
   ],
   "source": [
    "if Import == 1:\n",
    "    print(\"Importing new data...\")\n",
    "    \n",
    "    %run ./Initial_import.ipynb\n",
    "\n",
    "    print(\"Done\")\n",
    "    print(\"-------------------------------------------------------------------------\")\n",
    "    print(\" \")   \n",
    "    \n",
    "  \n",
    "if Questions_Analysis == 1:\n",
    "    \n",
    "    print(\"QUESTIONS ANALYSER\")  \n",
    "    \n",
    "    %run ./Question_analysis.ipynb\n",
    "\n",
    "    print(\"Done\")\n",
    "    print(\"-------------------------------------------------------------------------\")\n",
    "    print(\" \")   \n",
    "    \n",
    "    \n",
    "if Venue_Analysis == 1:\n",
    "    \n",
    "    print(\"VENUE ANALYSER\")  \n",
    "    \n",
    "    %run ./Venue_analysis.ipynb\n",
    "\n",
    "    print(\"Done\")\n",
    "    print(\"-------------------------------------------------------------------------\")\n",
    "    print(\" \")   \n",
    "       \n",
    "    \n",
    "if Build_Quiz == 1:\n",
    "    \n",
    "    print(\"QUIZ BUILDER\")   \n",
    "    \n",
    "    %run ./Quiz_builder.ipynb\n",
    "    \n",
    "    print(\" \") \n",
    "    print(\"Done\")\n",
    "    print(\"-------------------------------------------------------------------------\")\n",
    "    print(\" \")  \n",
    "    \n",
    "if Match_Questions == 1:\n",
    "    \n",
    "    print(\"MATCHING QUESTIONS\")   \n",
    "    \n",
    "    %run ./Match_Qs.ipynb\n",
    "    \n",
    "    print(\"Done\")\n",
    "    print(\"-------------------------------------------------------------------------\")\n",
    "    print(\" \")  "
   ]
  }
 ],
 "metadata": {
  "kernelspec": {
   "display_name": "Python 3",
   "language": "python",
   "name": "python3"
  },
  "language_info": {
   "codemirror_mode": {
    "name": "ipython",
    "version": 3
   },
   "file_extension": ".py",
   "mimetype": "text/x-python",
   "name": "python",
   "nbconvert_exporter": "python",
   "pygments_lexer": "ipython3",
   "version": "3.8.5"
  }
 },
 "nbformat": 4,
 "nbformat_minor": 4
}
