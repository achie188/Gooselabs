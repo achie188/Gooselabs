{
 "cells": [
  {
   "cell_type": "code",
   "execution_count": null,
   "metadata": {},
   "outputs": [],
   "source": [
    "import pandas as pd\n",
    "\n",
    "\n",
    "location = r'C:\\Users\\achie\\Github\\Gooselabs\\4.Quiz_Outputs\\Todays_Quizzes.csv'\n",
    "\n",
    "All_Quiz_Qs = pd.read_csv(location)\n",
    "\n",
    "url = r'C:\\Users\\achie\\Github\\Gooselabs\\1.Input\\Questions Database V2.xlsm'\n",
    "Questions = pd.read_excel(url, sheet_name = 0, header=0, index_col=0, engine='openpyxl')\n",
    "\n",
    "Questions['QRef'] = Questions.index\n",
    "\n",
    "All_Quiz_WQs = All_Quiz_Qs.merge(Questions, on=\"QRef\", how=\"left\")\n",
    "\n",
    "All_Quiz_WQs.to_csv(r'C:\\Users\\achie\\Github\\Gooselabs\\4.Quiz_Outputs\\Todays_Quizzes_with Qs.csv')\n"
   ]
  }
 ],
 "metadata": {
  "kernelspec": {
   "display_name": "Python 3",
   "language": "python",
   "name": "python3"
  },
  "language_info": {
   "codemirror_mode": {
    "name": "ipython",
    "version": 3
   },
   "file_extension": ".py",
   "mimetype": "text/x-python",
   "name": "python",
   "nbconvert_exporter": "python",
   "pygments_lexer": "ipython3",
   "version": "3.8.5"
  }
 },
 "nbformat": 4,
 "nbformat_minor": 4
}
